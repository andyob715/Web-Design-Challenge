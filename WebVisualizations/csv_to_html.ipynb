{
 "cells": [
  {
   "cell_type": "code",
   "execution_count": 2,
   "metadata": {},
   "outputs": [],
   "source": [
    "import pandas as pd\n"
   ]
  },
  {
   "cell_type": "code",
   "execution_count": 3,
   "metadata": {},
   "outputs": [
    {
     "data": {
      "text/html": [
       "<div>\n",
       "<style scoped>\n",
       "    .dataframe tbody tr th:only-of-type {\n",
       "        vertical-align: middle;\n",
       "    }\n",
       "\n",
       "    .dataframe tbody tr th {\n",
       "        vertical-align: top;\n",
       "    }\n",
       "\n",
       "    .dataframe thead th {\n",
       "        text-align: right;\n",
       "    }\n",
       "</style>\n",
       "<table border=\"1\" class=\"dataframe\">\n",
       "  <thead>\n",
       "    <tr style=\"text-align: right;\">\n",
       "      <th></th>\n",
       "      <th>City</th>\n",
       "      <th>Country</th>\n",
       "      <th>Lat</th>\n",
       "      <th>Lng</th>\n",
       "      <th>Max Temp</th>\n",
       "      <th>Humidity</th>\n",
       "      <th>Cloudiness</th>\n",
       "      <th>Wind Speed</th>\n",
       "      <th>Date</th>\n",
       "    </tr>\n",
       "  </thead>\n",
       "  <tbody>\n",
       "    <tr>\n",
       "      <th>0</th>\n",
       "      <td>Grindavik</td>\n",
       "      <td>IS</td>\n",
       "      <td>63.8424</td>\n",
       "      <td>-22.4338</td>\n",
       "      <td>52.56</td>\n",
       "      <td>100</td>\n",
       "      <td>90</td>\n",
       "      <td>9.22</td>\n",
       "      <td>1628039180</td>\n",
       "    </tr>\n",
       "    <tr>\n",
       "      <th>1</th>\n",
       "      <td>Bako</td>\n",
       "      <td>ET</td>\n",
       "      <td>5.7833</td>\n",
       "      <td>36.5667</td>\n",
       "      <td>67.21</td>\n",
       "      <td>61</td>\n",
       "      <td>99</td>\n",
       "      <td>3.87</td>\n",
       "      <td>1628039180</td>\n",
       "    </tr>\n",
       "    <tr>\n",
       "      <th>2</th>\n",
       "      <td>Port Alfred</td>\n",
       "      <td>ZA</td>\n",
       "      <td>-33.5906</td>\n",
       "      <td>26.8910</td>\n",
       "      <td>64.26</td>\n",
       "      <td>39</td>\n",
       "      <td>0</td>\n",
       "      <td>10.40</td>\n",
       "      <td>1628039181</td>\n",
       "    </tr>\n",
       "    <tr>\n",
       "      <th>3</th>\n",
       "      <td>Cervo</td>\n",
       "      <td>ES</td>\n",
       "      <td>43.6702</td>\n",
       "      <td>-7.4101</td>\n",
       "      <td>68.20</td>\n",
       "      <td>91</td>\n",
       "      <td>100</td>\n",
       "      <td>10.02</td>\n",
       "      <td>1628039181</td>\n",
       "    </tr>\n",
       "    <tr>\n",
       "      <th>4</th>\n",
       "      <td>Portmore</td>\n",
       "      <td>JM</td>\n",
       "      <td>17.9702</td>\n",
       "      <td>-76.8672</td>\n",
       "      <td>84.16</td>\n",
       "      <td>75</td>\n",
       "      <td>75</td>\n",
       "      <td>11.50</td>\n",
       "      <td>1628039181</td>\n",
       "    </tr>\n",
       "  </tbody>\n",
       "</table>\n",
       "</div>"
      ],
      "text/plain": [
       "          City Country      Lat      Lng  Max Temp  Humidity  Cloudiness  \\\n",
       "0    Grindavik      IS  63.8424 -22.4338     52.56       100          90   \n",
       "1         Bako      ET   5.7833  36.5667     67.21        61          99   \n",
       "2  Port Alfred      ZA -33.5906  26.8910     64.26        39           0   \n",
       "3        Cervo      ES  43.6702  -7.4101     68.20        91         100   \n",
       "4     Portmore      JM  17.9702 -76.8672     84.16        75          75   \n",
       "\n",
       "   Wind Speed        Date  \n",
       "0        9.22  1628039180  \n",
       "1        3.87  1628039180  \n",
       "2       10.40  1628039181  \n",
       "3       10.02  1628039181  \n",
       "4       11.50  1628039181  "
      ]
     },
     "execution_count": 3,
     "metadata": {},
     "output_type": "execute_result"
    }
   ],
   "source": [
    "file_to_load = \"Resources/city_results.csv\"\n",
    "df = pd.read_csv(file_to_load)\n",
    "df.head()"
   ]
  },
  {
   "cell_type": "code",
   "execution_count": 4,
   "metadata": {},
   "outputs": [],
   "source": [
    "df.to_html(\"city_results.html\")"
   ]
  },
  {
   "cell_type": "code",
   "execution_count": null,
   "metadata": {},
   "outputs": [],
   "source": []
  }
 ],
 "metadata": {
  "kernelspec": {
   "display_name": "Python [conda env:PythonData] *",
   "language": "python",
   "name": "conda-env-PythonData-py"
  },
  "language_info": {
   "codemirror_mode": {
    "name": "ipython",
    "version": 3
   },
   "file_extension": ".py",
   "mimetype": "text/x-python",
   "name": "python",
   "nbconvert_exporter": "python",
   "pygments_lexer": "ipython3",
   "version": "3.8.5"
  }
 },
 "nbformat": 4,
 "nbformat_minor": 4
}
